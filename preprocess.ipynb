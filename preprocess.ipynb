{
 "cells": [
  {
   "cell_type": "markdown",
   "metadata": {},
   "source": [
    "We'll be using some features from fastai, so let's import it:"
   ]
  },
  {
   "cell_type": "code",
   "execution_count": 2,
   "metadata": {},
   "outputs": [],
   "source": [
    "from fastai.text.all import *"
   ]
  },
  {
   "cell_type": "markdown",
   "metadata": {},
   "source": [
    "Download the public domain book War and Peace from Project Gutenberg:"
   ]
  },
  {
   "cell_type": "code",
   "execution_count": 4,
   "metadata": {},
   "outputs": [
    {
     "data": {
      "text/plain": [
       "Path('war_and_peace.txt')"
      ]
     },
     "execution_count": 4,
     "metadata": {},
     "output_type": "execute_result"
    }
   ],
   "source": [
    "download_data(url='https://www.gutenberg.org/files/2600/2600-0.txt', fname='war_and_peace.txt')"
   ]
  },
  {
   "cell_type": "markdown",
   "metadata": {},
   "source": [
    "Let's check that it downloaded to the same directory as our notebook:"
   ]
  },
  {
   "cell_type": "code",
   "execution_count": 6,
   "metadata": {},
   "outputs": [
    {
     "name": "stdout",
     "output_type": "stream",
     "text": [
      "war_and_peace.ipynb  war_and_peace.txt\r\n"
     ]
    }
   ],
   "source": [
    "!ls"
   ]
  },
  {
   "cell_type": "markdown",
   "metadata": {},
   "source": [
    "Let's open the text file and read the whole thing into our `text` variable:"
   ]
  },
  {
   "cell_type": "code",
   "execution_count": 7,
   "metadata": {},
   "outputs": [],
   "source": [
    "text = ''\n",
    "with open('war_and_peace.txt', 'r') as f:\n",
    "    text = f.read()"
   ]
  },
  {
   "cell_type": "markdown",
   "metadata": {},
   "source": [
    "Let's see how long it is:"
   ]
  },
  {
   "cell_type": "code",
   "execution_count": 8,
   "metadata": {},
   "outputs": [
    {
     "data": {
      "text/plain": [
       "3227619"
      ]
     },
     "execution_count": 8,
     "metadata": {},
     "output_type": "execute_result"
    }
   ],
   "source": [
    "len(text)"
   ]
  },
  {
   "cell_type": "markdown",
   "metadata": {},
   "source": [
    "Now we have a very long string containing the whole book."
   ]
  },
  {
   "cell_type": "markdown",
   "metadata": {},
   "source": [
    "Let's take a look at the beginning of the string:"
   ]
  },
  {
   "cell_type": "code",
   "execution_count": 11,
   "metadata": {},
   "outputs": [
    {
     "data": {
      "text/plain": [
       "'\\ufeff\\nThe Project Gutenberg EBook of War and Peace, by Leo Tolstoy\\n\\nThis eBook is for the use of anyone anywhere at no cost and with almost\\nno restrictions whatsoever. You may copy it, give it away or re-use\\nit under the terms of the Project Gutenberg License included with this\\neBook or online at www.gutenberg.org\\n\\n\\nTitle: War and Peace\\n\\nAuthor: Leo Tolstoy\\n\\nTranslators: Louise and Aylmer Maude\\n\\nPosting Date: January 10, 2009 [EBook #2600]\\n\\nLast Updated: January 21, 2019\\n\\nLanguage: English\\n\\nCharacter set encoding: UTF-8\\n\\n*** START OF THIS PROJECT GUTENBERG EBOOK WAR AND PEACE ***\\n\\n\\n\\n\\nAn Anonymous Volunteer, and David Widger\\n\\n\\n\\n\\n\\n\\nWAR AND PEACE\\n\\n\\nBy Leo Tolstoy/Tolstoi\\n\\n\\n\\n\\n\\n    CONTENTS\\n\\n\\n    BOOK ONE: 1805\\n\\n    CHAPTER I\\n\\n    CHAPTER II\\n\\n    CHAPTER III\\n\\n    CHAPTER IV\\n\\n    CHAPTER V\\n\\n    CHAPTER VI\\n\\n    CHAPTER VII\\n\\n    CHAPTER VIII\\n\\n    CHAPTER IX\\n\\n    CHAPTER X\\n\\n    CHAPTER XI\\n\\n    CHAPTER XII\\n\\n    CHAPTER XIII\\n\\n    CHAPTER XIV\\n\\n    CHAPTER XV\\n\\n    CHAPTER XVI\\n\\n    CHAPTER XVII\\n\\n    CHA'"
      ]
     },
     "execution_count": 11,
     "metadata": {},
     "output_type": "execute_result"
    }
   ],
   "source": [
    "text[:1000]"
   ]
  },
  {
   "cell_type": "markdown",
   "metadata": {},
   "source": [
    "We don't want to include this section (before the actual book starts) in our data, so let's cut it out."
   ]
  },
  {
   "cell_type": "markdown",
   "metadata": {},
   "source": [
    "The actual story starts with the string \"BOOK ONE: 1805\", so let's find the index of that substring so we can cut out everything before it."
   ]
  },
  {
   "cell_type": "markdown",
   "metadata": {},
   "source": [
    "Let's be careful and check for all occurences of that substring in the text."
   ]
  },
  {
   "cell_type": "code",
   "execution_count": 43,
   "metadata": {},
   "outputs": [
    {
     "data": {
      "text/plain": [
       "[<re.Match object; span=(697, 711), match='BOOK ONE: 1805'>,\n",
       " <re.Match object; span=(7257, 7271), match='BOOK ONE: 1805'>]"
      ]
     },
     "execution_count": 43,
     "metadata": {},
     "output_type": "execute_result"
    }
   ],
   "source": [
    "substring = re.compile('BOOK ONE: 1805')\n",
    "matches = []\n",
    "for match in substring.finditer(text):\n",
    "    matches.append(match)\n",
    "matches"
   ]
  },
  {
   "cell_type": "markdown",
   "metadata": {},
   "source": [
    "We can see that the substring appeared twice in the book. Let's find the match that actually comes at the beginning of the story."
   ]
  },
  {
   "cell_type": "code",
   "execution_count": 45,
   "metadata": {},
   "outputs": [
    {
     "data": {
      "text/plain": [
       "(697, 7257)"
      ]
     },
     "execution_count": 45,
     "metadata": {},
     "output_type": "execute_result"
    }
   ],
   "source": [
    "start1, start2 = [match.start() for match in matches]\n",
    "start1, start2"
   ]
  },
  {
   "cell_type": "markdown",
   "metadata": {},
   "source": [
    "Let's try the first match:"
   ]
  },
  {
   "cell_type": "code",
   "execution_count": 47,
   "metadata": {},
   "outputs": [
    {
     "data": {
      "text/plain": [
       "'BOOK ONE: 1805\\n\\n    CHAPTER I\\n\\n    CHAPTER II\\n\\n    CHAPTER III\\n\\n    CHAPTER IV\\n\\n    CHAPTER V\\n\\n    CHAPTER VI\\n\\n    CHAPTER VII\\n\\n    CHAPTER VIII\\n\\n    CHAPTER IX\\n\\n    CHAPTER X\\n\\n    CHAPTER XI\\n\\n    CHAPTER XII\\n\\n    CHAPTER XIII\\n\\n    CHAPTER XIV\\n\\n    CHAPTER XV\\n\\n    CHAPTER XVI\\n\\n    CHAPTER XVII\\n\\n    CHAPTER XVIII\\n\\n    CHAPTER XIX\\n\\n    CHAPTER XX\\n\\n    CHAPTER XXI\\n\\n    CHAPTER XXII\\n\\n    CHAPTER XXIII\\n\\n    CHAPTER XXIV\\n\\n    CHAPTER XXV\\n\\n    CHAPTER XXVI\\n\\n    CHAPTER XXVII\\n\\n    CHAPTER XXVIII\\n\\n\\n    BOOK TWO: 1805\\n\\n    CHAPTER I\\n\\n    CHAPTER II\\n\\n    CHAPTER III\\n\\n    CHAPTER IV\\n\\n    CHAPTER V\\n\\n    CHAPTER VI\\n\\n    CHAPTER VII\\n\\n    CHAPTER VIII\\n\\n    CHAPTER IX\\n\\n    CHAPTER X\\n\\n    CHAPTER XI\\n\\n    CHAPTER XII\\n\\n    CHAPTER XIII\\n\\n    CHAPTER XIV\\n\\n    CHAPTER XV\\n\\n    CHAPTER XVI\\n\\n    CHAPTER XVII\\n\\n    CHAPTER XVIII\\n\\n    CHAPTER XIX\\n\\n    CHAPTER XX\\n\\n    CHAPTER XXI\\n\\n\\n    BOOK THREE: 1805\\n\\n    CHAPTER I\\n\\n    CHAPTER II\\n\\n    CHAPTER III\\n\\n    CHAPTER IV\\n\\n    CHAPTER V\\n\\n    CHAPTER VI\\n\\n    CHAPTER VII\\n\\n '"
      ]
     },
     "execution_count": 47,
     "metadata": {},
     "output_type": "execute_result"
    }
   ],
   "source": [
    "text[start1:start1+1000]"
   ]
  },
  {
   "cell_type": "markdown",
   "metadata": {},
   "source": [
    "This is still just the table of contents."
   ]
  },
  {
   "cell_type": "code",
   "execution_count": 48,
   "metadata": {},
   "outputs": [
    {
     "data": {
      "text/plain": [
       "'BOOK ONE: 1805\\n\\n\\n\\n\\n\\nCHAPTER I\\n\\n“Well, Prince, so Genoa and Lucca are now just family estates of the\\nBuonapartes. But I warn you, if you don’t tell me that this means war,\\nif you still try to defend the infamies and horrors perpetrated by that\\nAntichrist—I really believe he is Antichrist—I will have nothing\\nmore to do with you and you are no longer my friend, no longer my\\n‘faithful slave,’ as you call yourself! But how do you do? I see I\\nhave frightened you—sit down and tell me all the news.”\\n\\nIt was in July, 1805, and the speaker was the well-known Anna Pávlovna\\nSchérer, maid of honor and favorite of the Empress Márya Fëdorovna.\\nWith these words she greeted Prince Vasíli Kurágin, a man of high\\nrank and importance, who was the first to arrive at her reception. Anna\\nPávlovna had had a cough for some days. She was, as she said, suffering\\nfrom la grippe; grippe being then a new word in St. Petersburg, used\\nonly by the elite.\\n\\nAll her invitations without exception, written in French, and de'"
      ]
     },
     "execution_count": 48,
     "metadata": {},
     "output_type": "execute_result"
    }
   ],
   "source": [
    "text[start2:start2+1000]"
   ]
  },
  {
   "cell_type": "markdown",
   "metadata": {},
   "source": [
    "Now that looks like the start of the story itself."
   ]
  },
  {
   "cell_type": "markdown",
   "metadata": {},
   "source": [
    "Now let's remove everything up to that point in the text string:"
   ]
  },
  {
   "cell_type": "code",
   "execution_count": 49,
   "metadata": {},
   "outputs": [],
   "source": [
    "text = text[start2:]"
   ]
  },
  {
   "cell_type": "code",
   "execution_count": 50,
   "metadata": {},
   "outputs": [
    {
     "data": {
      "text/plain": [
       "'BOOK ONE: 1805\\n\\n\\n\\n\\n\\nCHAPTER I\\n\\n“Well, Prince, so Genoa and Lucca are now just family estates of the\\nBuonapartes. But I warn you, if you don’t tell me that this means war,\\nif you still try to defend the infamies and horrors perpetrated by that\\nAntichrist—I really believe he is Antichrist—I will have nothing\\nmore to do with you and you are no longer my friend, no longer my\\n‘faithful slave,’ as you call yourself! But how do you do? I see I\\nhave frightened you—sit down and tell me all the news.”\\n\\nIt was in July, 1805, and the speaker was the well-known Anna Pávlovna\\nSchérer, maid of honor and favorite of the Empress Márya Fëdorovna.\\nWith these words she greeted Prince Vasíli Kurágin, a man of high\\nrank and importance, who was the first to arrive at her reception. Anna\\nPávlovna had had a cough for some days. She was, as she said, suffering\\nfrom la grippe; grippe being then a new word in St. Petersburg, used\\nonly by the elite.\\n\\nAll her invitations without exception, written in French, and de'"
      ]
     },
     "execution_count": 50,
     "metadata": {},
     "output_type": "execute_result"
    }
   ],
   "source": [
    "text[:1000]"
   ]
  },
  {
   "cell_type": "markdown",
   "metadata": {},
   "source": [
    "Let's do the same for the end of the text string, which has extra contents that are not part of the story."
   ]
  },
  {
   "cell_type": "code",
   "execution_count": 51,
   "metadata": {},
   "outputs": [
    {
     "data": {
      "text/plain": [
       "'laf.org/donate\\n\\n\\nSection 5. General Information About Project Gutenberg-tm electronic\\nworks.\\n\\nProfessor Michael S. Hart is the originator of the Project Gutenberg-tm\\nconcept of a library of electronic works that could be freely shared\\nwith anyone. For thirty years, he produced and distributed Project\\nGutenberg-tm eBooks with only a loose network of volunteer support.\\n\\n\\nProject Gutenberg-tm eBooks are often created from several printed\\neditions, all of which are confirmed as Public Domain in the U.S. unless\\na copyright notice is included. Thus, we do not necessarily keep eBooks\\nin compliance with any particular paper edition.\\n\\n\\nMost people start at our Web site which has the main PG search facility:\\n\\n     http://www.gutenberg.org\\n\\nThis Web site includes information about Project Gutenberg-tm, including\\nhow to make donations to the Project Gutenberg Literary Archive\\nFoundation, how to help produce our new eBooks, and how to subscribe to\\nour email newsletter to hear about new eBooks.\\n\\n\\n\\n\\n'"
      ]
     },
     "execution_count": 51,
     "metadata": {},
     "output_type": "execute_result"
    }
   ],
   "source": [
    "text[-1000:]"
   ]
  },
  {
   "cell_type": "markdown",
   "metadata": {},
   "source": [
    "The text that signals the end of the story is \"End of the Project Gutenberg EBook\" so let's remove everything including and after that substring:"
   ]
  },
  {
   "cell_type": "code",
   "execution_count": 52,
   "metadata": {},
   "outputs": [
    {
     "data": {
      "text/plain": [
       "[<re.Match object; span=(3201664, 3201698), match='End of the Project Gutenberg EBook'>]"
      ]
     },
     "execution_count": 52,
     "metadata": {},
     "output_type": "execute_result"
    }
   ],
   "source": [
    "substring = re.compile('End of the Project Gutenberg EBook')\n",
    "matches = []\n",
    "for match in substring.finditer(text):\n",
    "    matches.append(match)\n",
    "matches"
   ]
  },
  {
   "cell_type": "code",
   "execution_count": 54,
   "metadata": {},
   "outputs": [
    {
     "data": {
      "text/plain": [
       "3201664"
      ]
     },
     "execution_count": 54,
     "metadata": {},
     "output_type": "execute_result"
    }
   ],
   "source": [
    "start = matches[0].start()\n",
    "start"
   ]
  },
  {
   "cell_type": "markdown",
   "metadata": {},
   "source": [
    "Here is the very end of the story:"
   ]
  },
  {
   "cell_type": "code",
   "execution_count": 56,
   "metadata": {},
   "outputs": [
    {
     "data": {
      "text/plain": [
       "'e motion of the planets, so in history the difficulty of recognizing\\nthe subjection of personality to the laws of space, time, and cause\\nlies in renouncing the direct feeling of the independence of one’s own\\npersonality. But as in astronomy the new view said: “It is true that we\\ndo not feel the movement of the earth, but by admitting its immobility\\nwe arrive at absurdity, while by admitting its motion (which we do not\\nfeel) we arrive at laws,” so also in history the new view says: “It is\\ntrue that we are not conscious of our dependence, but by admitting our\\nfree will we arrive at absurdity, while by admitting our dependence on\\nthe external world, on time, and on cause, we arrive at laws.”\\n\\nIn the first case it was necessary to renounce the consciousness of an\\nunreal immobility in space and to recognize a motion we did not feel;\\nin the present case it is similarly necessary to renounce a freedom\\nthat does not exist, and to recognize a dependence of which we are not\\nconscious.\\n\\n\\n\\n\\n\\n\\n\\n\\n\\n\\n'"
      ]
     },
     "execution_count": 56,
     "metadata": {},
     "output_type": "execute_result"
    }
   ],
   "source": [
    "text[start-1000:start]"
   ]
  },
  {
   "cell_type": "markdown",
   "metadata": {},
   "source": [
    "So let's cut out everything after that from our text string:"
   ]
  },
  {
   "cell_type": "code",
   "execution_count": 57,
   "metadata": {},
   "outputs": [],
   "source": [
    "text = text[:start]"
   ]
  },
  {
   "cell_type": "markdown",
   "metadata": {},
   "source": [
    "Let's check the beginning and end of our text string to make sure we have the whole story:"
   ]
  },
  {
   "cell_type": "code",
   "execution_count": 58,
   "metadata": {},
   "outputs": [
    {
     "data": {
      "text/plain": [
       "'BOOK ONE: 1805\\n\\n\\n\\n\\n\\nCHAPTER I\\n\\n“Well, Prince, so Genoa and Lucca are now just family estates of the\\nBuonapartes. But I warn you, if you don’t tell me that this means war,\\nif you still try to defend the infamies and horrors perpetrated by that\\nAntichrist—I really believe he is Antichrist—I will have nothing\\nmore to do with you and you are no longer my friend, no longer my\\n‘faithful slave,’ as you call yourself! But how do you do? I see I\\nhave frightened you—sit down and tell me all the news.”\\n\\nIt was in July, 1805, and the speaker was the well-known Anna Pávlovna\\nSchérer, maid of honor and favorite of the Empress Márya Fëdorovna.\\nWith these words she greeted Prince Vasíli Kurágin, a man of high\\nrank and importance, who was the first to arrive at her reception. Anna\\nPávlovna had had a cough for some days. She was, as she said, suffering\\nfrom la grippe; grippe being then a new word in St. Petersburg, used\\nonly by the elite.\\n\\nAll her invitations without exception, written in French, and de'"
      ]
     },
     "execution_count": 58,
     "metadata": {},
     "output_type": "execute_result"
    }
   ],
   "source": [
    "text[:1000]"
   ]
  },
  {
   "cell_type": "code",
   "execution_count": 59,
   "metadata": {},
   "outputs": [
    {
     "data": {
      "text/plain": [
       "'e motion of the planets, so in history the difficulty of recognizing\\nthe subjection of personality to the laws of space, time, and cause\\nlies in renouncing the direct feeling of the independence of one’s own\\npersonality. But as in astronomy the new view said: “It is true that we\\ndo not feel the movement of the earth, but by admitting its immobility\\nwe arrive at absurdity, while by admitting its motion (which we do not\\nfeel) we arrive at laws,” so also in history the new view says: “It is\\ntrue that we are not conscious of our dependence, but by admitting our\\nfree will we arrive at absurdity, while by admitting our dependence on\\nthe external world, on time, and on cause, we arrive at laws.”\\n\\nIn the first case it was necessary to renounce the consciousness of an\\nunreal immobility in space and to recognize a motion we did not feel;\\nin the present case it is similarly necessary to renounce a freedom\\nthat does not exist, and to recognize a dependence of which we are not\\nconscious.\\n\\n\\n\\n\\n\\n\\n\\n\\n\\n\\n'"
      ]
     },
     "execution_count": 59,
     "metadata": {},
     "output_type": "execute_result"
    }
   ],
   "source": [
    "text[-1000:]"
   ]
  },
  {
   "cell_type": "markdown",
   "metadata": {},
   "source": [
    "Now we have the story and only the story in our `text` string."
   ]
  },
  {
   "cell_type": "markdown",
   "metadata": {},
   "source": [
    "Let's split the text into chapters. Each chapter is separated by six newline characters, so we can split the string on that:"
   ]
  },
  {
   "cell_type": "code",
   "execution_count": 66,
   "metadata": {
    "scrolled": false
   },
   "outputs": [],
   "source": [
    "chapters = text.split('\\n'*6)"
   ]
  },
  {
   "cell_type": "code",
   "execution_count": 124,
   "metadata": {},
   "outputs": [
    {
     "data": {
      "text/plain": [
       "['“Well, Prince, so Genoa and Lucca are now just family estate',\n",
       " 'Anna Pávlovna’s drawing room was gradually filling. The high',\n",
       " 'Anna Pávlovna’s reception was in full swing. The spindles hu',\n",
       " 'Just then another visitor entered the drawing room: Prince A',\n",
       " '“And what do you think of this latest comedy, the coronation',\n",
       " 'Having thanked Anna Pávlovna for her charming soiree, the gu',\n",
       " 'The rustle of a woman’s dress was heard in the next room. Pr',\n",
       " 'The friends were silent. Neither cared to begin talking. Pie',\n",
       " 'It was past one o’clock when Pierre left his friend. It was ',\n",
       " 'Prince Vasíli kept the promise he had given to Princess Drub']"
      ]
     },
     "execution_count": 124,
     "metadata": {},
     "output_type": "execute_result"
    }
   ],
   "source": [
    "[ch[:60] for ch in chapters][:10]"
   ]
  },
  {
   "cell_type": "markdown",
   "metadata": {},
   "source": [
    "The last one does't look like a chapter:"
   ]
  },
  {
   "cell_type": "code",
   "execution_count": 75,
   "metadata": {},
   "outputs": [
    {
     "data": {
      "text/plain": [
       "'\\n\\n\\n\\n\\n'"
      ]
     },
     "execution_count": 75,
     "metadata": {},
     "output_type": "execute_result"
    }
   ],
   "source": [
    "chapters[-1]"
   ]
  },
  {
   "cell_type": "markdown",
   "metadata": {},
   "source": [
    "So let's remove it:"
   ]
  },
  {
   "cell_type": "code",
   "execution_count": 76,
   "metadata": {},
   "outputs": [
    {
     "data": {
      "text/plain": [
       "'\\n\\n\\n\\n\\n'"
      ]
     },
     "execution_count": 76,
     "metadata": {},
     "output_type": "execute_result"
    }
   ],
   "source": [
    "chapters.pop()"
   ]
  },
  {
   "cell_type": "code",
   "execution_count": 79,
   "metadata": {},
   "outputs": [
    {
     "data": {
      "text/plain": [
       "'CHAPTER XII\\n\\nFrom the time the law of Copernicus was discovered and proved, the mere\\nrecognition of '"
      ]
     },
     "execution_count": 79,
     "metadata": {},
     "output_type": "execute_result"
    }
   ],
   "source": [
    "chapters[-1][:100]"
   ]
  },
  {
   "cell_type": "markdown",
   "metadata": {},
   "source": [
    "Now that looks like the final chapter."
   ]
  },
  {
   "cell_type": "markdown",
   "metadata": {},
   "source": [
    "Let's also remove all the sub-book names, since this is a list of chapters:"
   ]
  },
  {
   "cell_type": "code",
   "execution_count": 89,
   "metadata": {},
   "outputs": [
    {
     "data": {
      "text/plain": [
       "['BOOK ONE: 1805',\n",
       " 'BOOK TWO: 1805',\n",
       " 'BOOK THREE: 1805',\n",
       " 'BOOK FOUR: 1806',\n",
       " 'BOOK FIVE: 1806 - 07',\n",
       " 'BOOK SIX: 1808 - 10',\n",
       " 'BOOK SEVEN: 1810 - 11',\n",
       " 'BOOK EIGHT: 1811 - 12',\n",
       " 'BOOK NINE: 1812',\n",
       " 'BOOK TEN: 1812',\n",
       " 'BOOK ELEVEN: 1812',\n",
       " 'BOOK TWELVE: 1812',\n",
       " 'BOOK THIRTEEN: 1812',\n",
       " 'BOOK FOURTEEN: 1812',\n",
       " 'BOOK FIFTEEN: 1812 - 13',\n",
       " 'FIRST EPILOGUE: 1813 - 20',\n",
       " 'SECOND EPILOGUE']"
      ]
     },
     "execution_count": 89,
     "metadata": {},
     "output_type": "execute_result"
    }
   ],
   "source": [
    "[ch for ch in chapters if len(ch)<100]"
   ]
  },
  {
   "cell_type": "code",
   "execution_count": 90,
   "metadata": {},
   "outputs": [],
   "source": [
    "chapters = [ch for ch in chapters if len(ch)>100]"
   ]
  },
  {
   "cell_type": "code",
   "execution_count": 123,
   "metadata": {},
   "outputs": [
    {
     "data": {
      "text/plain": [
       "['“Well, Prince, so Genoa and Lucca are now just family estate',\n",
       " 'Anna Pávlovna’s drawing room was gradually filling. The high',\n",
       " 'Anna Pávlovna’s reception was in full swing. The spindles hu',\n",
       " 'Just then another visitor entered the drawing room: Prince A',\n",
       " '“And what do you think of this latest comedy, the coronation',\n",
       " 'Having thanked Anna Pávlovna for her charming soiree, the gu',\n",
       " 'The rustle of a woman’s dress was heard in the next room. Pr',\n",
       " 'The friends were silent. Neither cared to begin talking. Pie',\n",
       " 'It was past one o’clock when Pierre left his friend. It was ',\n",
       " 'Prince Vasíli kept the promise he had given to Princess Drub']"
      ]
     },
     "execution_count": 123,
     "metadata": {},
     "output_type": "execute_result"
    }
   ],
   "source": [
    "[ch[:60] for ch in chapters][:10]"
   ]
  },
  {
   "cell_type": "markdown",
   "metadata": {},
   "source": [
    "The chapter titles aren't really part of the story either, so let's remove those."
   ]
  },
  {
   "cell_type": "code",
   "execution_count": 98,
   "metadata": {},
   "outputs": [
    {
     "data": {
      "text/plain": [
       "'CHAPTER I\\n\\n“Well, Prince, so Genoa and Lucca are now just fa'"
      ]
     },
     "execution_count": 98,
     "metadata": {},
     "output_type": "execute_result"
    }
   ],
   "source": [
    "ch1 = chapters[0][:60]\n",
    "ch1"
   ]
  },
  {
   "cell_type": "markdown",
   "metadata": {},
   "source": [
    "We can see that each chapter begins with \"CHAPTER #\\n\\n\" where \"#\" is the digit number of the chapter. We want to cut out that whole substring for each chapter."
   ]
  },
  {
   "cell_type": "markdown",
   "metadata": {},
   "source": [
    "Let's make a function that will remove the title from a given chapter:"
   ]
  },
  {
   "cell_type": "code",
   "execution_count": 113,
   "metadata": {},
   "outputs": [],
   "source": [
    "def remove_chapter_title(chapter):\n",
    "    chapter_title = re.compile('CHAPTER \\w+\\\\n\\\\n')\n",
    "    match = chapter_title.search(chapter)\n",
    "    end = match.end()\n",
    "    return chapter[end:]"
   ]
  },
  {
   "cell_type": "markdown",
   "metadata": {},
   "source": [
    "Let's test it on the first chapter:"
   ]
  },
  {
   "cell_type": "code",
   "execution_count": 118,
   "metadata": {},
   "outputs": [
    {
     "data": {
      "text/plain": [
       "'“Well, Prince, so Genoa and Lucca are now just family estate'"
      ]
     },
     "execution_count": 118,
     "metadata": {},
     "output_type": "execute_result"
    }
   ],
   "source": [
    "remove_chapter_title(chapters[0])[:60]"
   ]
  },
  {
   "cell_type": "markdown",
   "metadata": {},
   "source": [
    "And let's apply it to all the chapters:"
   ]
  },
  {
   "cell_type": "code",
   "execution_count": 120,
   "metadata": {},
   "outputs": [],
   "source": [
    "chapters = [remove_chapter_title(chapter) for chapter in chapters]"
   ]
  },
  {
   "cell_type": "code",
   "execution_count": 122,
   "metadata": {},
   "outputs": [
    {
     "data": {
      "text/plain": [
       "['“Well, Prince, so Genoa and Lucca are now just family estate',\n",
       " 'Anna Pávlovna’s drawing room was gradually filling. The high',\n",
       " 'Anna Pávlovna’s reception was in full swing. The spindles hu',\n",
       " 'Just then another visitor entered the drawing room: Prince A',\n",
       " '“And what do you think of this latest comedy, the coronation',\n",
       " 'Having thanked Anna Pávlovna for her charming soiree, the gu',\n",
       " 'The rustle of a woman’s dress was heard in the next room. Pr',\n",
       " 'The friends were silent. Neither cared to begin talking. Pie',\n",
       " 'It was past one o’clock when Pierre left his friend. It was ',\n",
       " 'Prince Vasíli kept the promise he had given to Princess Drub']"
      ]
     },
     "execution_count": 122,
     "metadata": {},
     "output_type": "execute_result"
    }
   ],
   "source": [
    "[ch[:60] for ch in chapters][:10]"
   ]
  },
  {
   "cell_type": "markdown",
   "metadata": {},
   "source": [
    "It looks like it worked."
   ]
  },
  {
   "cell_type": "markdown",
   "metadata": {},
   "source": [
    "Now let's split each chapter into paragraphs. Paragraphs are separated by two newline characters, so we can split each chapter on that:"
   ]
  },
  {
   "cell_type": "code",
   "execution_count": 127,
   "metadata": {
    "scrolled": false
   },
   "outputs": [
    {
     "data": {
      "text/plain": [
       "42"
      ]
     },
     "execution_count": 127,
     "metadata": {},
     "output_type": "execute_result"
    }
   ],
   "source": [
    "paragraphs = chapters[0].split('\\n'*2)\n",
    "len(paragraphs)"
   ]
  },
  {
   "cell_type": "code",
   "execution_count": 131,
   "metadata": {},
   "outputs": [
    {
     "data": {
      "text/plain": [
       "'“Well, Prince, so Genoa and Lucca are now just family estates of the\\nBuonapartes. But I warn you, if you don’t tell me that this means war,\\nif you still try to defend the infamies and horrors perpetrated by that\\nAntichrist—I really believe he is Antichrist—I will have nothing\\nmore to do with you and you are no longer my friend, no longer my\\n‘faithful slave,’ as you call yourself! But how do you do? I see I\\nhave frightened you—sit down and tell me all the news.”'"
      ]
     },
     "execution_count": 131,
     "metadata": {},
     "output_type": "execute_result"
    }
   ],
   "source": [
    "paragraphs[0]"
   ]
  },
  {
   "cell_type": "markdown",
   "metadata": {},
   "source": [
    "Let's also replace all the remaining single newline characters with spaces:"
   ]
  },
  {
   "cell_type": "code",
   "execution_count": 130,
   "metadata": {},
   "outputs": [
    {
     "data": {
      "text/plain": [
       "'“Well, Prince, so Genoa and Lucca are now just family estates of the Buonapartes. But I warn you, if you don’t tell me that this means war, if you still try to defend the infamies and horrors perpetrated by that Antichrist—I really believe he is Antichrist—I will have nothing more to do with you and you are no longer my friend, no longer my ‘faithful slave,’ as you call yourself! But how do you do? I see I have frightened you—sit down and tell me all the news.”'"
      ]
     },
     "execution_count": 130,
     "metadata": {},
     "output_type": "execute_result"
    }
   ],
   "source": [
    "paragraphs[0].replace('\\n', ' ')"
   ]
  },
  {
   "cell_type": "markdown",
   "metadata": {},
   "source": [
    "Let's apply these changes in one step to the whole collection of chapters:"
   ]
  },
  {
   "cell_type": "code",
   "execution_count": 135,
   "metadata": {},
   "outputs": [],
   "source": [
    "chapters = [[p.replace('\\n', ' ') for p in ch.split('\\n'*2)] for ch in chapters]"
   ]
  },
  {
   "cell_type": "markdown",
   "metadata": {},
   "source": [
    "Now we can index into chapters/paragraphs:"
   ]
  },
  {
   "cell_type": "code",
   "execution_count": 143,
   "metadata": {},
   "outputs": [
    {
     "data": {
      "text/plain": [
       "'Two footmen, the princess’ and his own, stood holding a shawl and a cloak, waiting for the conversation to finish. They listened to the French sentences which to them were meaningless, with an air of understanding but not wishing to appear to do so. The princess as usual spoke smilingly and listened with a laugh.'"
      ]
     },
     "execution_count": 143,
     "metadata": {},
     "output_type": "execute_result"
    }
   ],
   "source": [
    "chapters[5][8]"
   ]
  },
  {
   "cell_type": "markdown",
   "metadata": {},
   "source": [
    "Now let's join it all back into one long string, but with some helpful markers to show where chapters start and end, and also where paragraph breaks happen."
   ]
  },
  {
   "cell_type": "code",
   "execution_count": 165,
   "metadata": {
    "scrolled": false
   },
   "outputs": [],
   "source": [
    "paragraphs = []\n",
    "for chapter in chapters:\n",
    "    paragraphs.append('[start-chapter]')\n",
    "    for paragraph in chapter:\n",
    "        paragraphs.append(paragraph)\n",
    "    paragraphs.append('[end-chapter]')"
   ]
  },
  {
   "cell_type": "code",
   "execution_count": 166,
   "metadata": {},
   "outputs": [
    {
     "data": {
      "text/plain": [
       "12070"
      ]
     },
     "execution_count": 166,
     "metadata": {},
     "output_type": "execute_result"
    }
   ],
   "source": [
    "len(paragraphs)"
   ]
  },
  {
   "cell_type": "code",
   "execution_count": 167,
   "metadata": {},
   "outputs": [
    {
     "data": {
      "text/plain": [
       "['[start-chapter]',\n",
       " '“Well, Prince, so Genoa and Lucca are now just family estates of the Buonapartes. But I warn you, if you don’t tell me that this means war, if you still try to defend the infamies and horrors perpetrated by that Antichrist—I really believe he is Antichrist—I will have nothing more to do with you and you are no longer my friend, no longer my ‘faithful slave,’ as you call yourself! But how do you do? I see I have frightened you—sit down and tell me all the news.”',\n",
       " 'It was in July, 1805, and the speaker was the well-known Anna Pávlovna Schérer, maid of honor and favorite of the Empress Márya Fëdorovna. With these words she greeted Prince Vasíli Kurágin, a man of high rank and importance, who was the first to arrive at her reception. Anna Pávlovna had had a cough for some days. She was, as she said, suffering from la grippe; grippe being then a new word in St. Petersburg, used only by the elite.']"
      ]
     },
     "execution_count": 167,
     "metadata": {},
     "output_type": "execute_result"
    }
   ],
   "source": [
    "paragraphs[:3]"
   ]
  },
  {
   "cell_type": "code",
   "execution_count": 168,
   "metadata": {},
   "outputs": [
    {
     "data": {
      "text/plain": [
       "'[start-chapter] [paragraph-break] “Well, Prince, so Genoa and Lucca are now just family estates of the Buonapartes. But I warn you, if you don’t tell me that this means war, if you still try to defend the infamies and horrors perpetrated by that Antichrist—I really believe he is Antichrist—I will have nothing more to do with you and you are no longer my friend, no longer my ‘faithful slave,’ as you call yourself! But how do you do? I see I have frightened you—sit down and tell me all the news.” [paragraph-break] It was in July, 1805, and the speaker was the well-known Anna Pávlovna Schérer, maid of honor and favorite of the Empress Márya Fëdorovna. With these words she greeted Prince Vasíli Kurágin, a man of high rank and importance, who was the first to arrive at her reception. Anna Pávlovna had had a cough for some days. She was, as she said, suffering from la grippe; grippe being then a new word in St. Petersburg, used only by the elite.'"
      ]
     },
     "execution_count": 168,
     "metadata": {},
     "output_type": "execute_result"
    }
   ],
   "source": [
    "' [paragraph-break] '.join(paragraphs[:3])"
   ]
  },
  {
   "cell_type": "code",
   "execution_count": 169,
   "metadata": {},
   "outputs": [],
   "source": [
    "text = ' [paragraph-break] '.join(paragraphs)"
   ]
  },
  {
   "cell_type": "code",
   "execution_count": 172,
   "metadata": {},
   "outputs": [
    {
     "data": {
      "text/plain": [
       "'[start-chapter] [paragraph-break] “Well, Prince, so Genoa and Lucca are now just family estates of the Buonapartes. But I warn you, if you don’t tell me that this means war, if you still try to defend the infamies and horrors perpetrated by that Antichrist—I really believe he is Antichrist—I will have nothing more to do with you and you are no longer my friend, no longer my ‘faithful slave,’ as you call yourself! But how do you do? I see I have frightened you—sit down and tell me all the news.” [paragraph-break] It was in July, 1805, and the speaker was the well-known Anna Pávlovna Schérer, maid of honor and favorite of the Empress Márya Fëdorovna. With these words she greeted Prince Vasíli Kurágin, a man of high rank and importance, who was the first to arrive at her reception. Anna Pávlovna had had a cough for some days. She was, as she said, suffering from la grippe; grippe being then a new word in St. Petersburg, used only by the elite. [paragraph-break] All her invitations without'"
      ]
     },
     "execution_count": 172,
     "metadata": {},
     "output_type": "execute_result"
    }
   ],
   "source": [
    "text[:1000]"
   ]
  },
  {
   "cell_type": "code",
   "execution_count": null,
   "metadata": {},
   "outputs": [],
   "source": []
  },
  {
   "cell_type": "code",
   "execution_count": null,
   "metadata": {},
   "outputs": [],
   "source": []
  }
 ],
 "metadata": {
  "kernelspec": {
   "display_name": "Python 3",
   "language": "python",
   "name": "python3"
  },
  "language_info": {
   "codemirror_mode": {
    "name": "ipython",
    "version": 3
   },
   "file_extension": ".py",
   "mimetype": "text/x-python",
   "name": "python",
   "nbconvert_exporter": "python",
   "pygments_lexer": "ipython3",
   "version": "3.8.6"
  }
 },
 "nbformat": 4,
 "nbformat_minor": 4
}
